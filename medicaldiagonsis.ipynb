{
  "nbformat": 4,
  "nbformat_minor": 0,
  "metadata": {
    "colab": {
      "provenance": [],
      "authorship_tag": "ABX9TyMR0wLTMt/C6Pe9LirHgZsX",
      "include_colab_link": true
    },
    "kernelspec": {
      "name": "python3",
      "display_name": "Python 3"
    },
    "language_info": {
      "name": "python"
    }
  },
  "cells": [
    {
      "cell_type": "markdown",
      "metadata": {
        "id": "view-in-github",
        "colab_type": "text"
      },
      "source": [
        "<a href=\"https://colab.research.google.com/github/Nandhini-s25/sdcproject/blob/main/medicaldiagonsis.ipynb\" target=\"_parent\"><img src=\"https://colab.research.google.com/assets/colab-badge.svg\" alt=\"Open In Colab\"/></a>"
      ]
    },
    {
      "cell_type": "code",
      "source": [
        "import re\n",
        "\n",
        "# Sample symptom-to-diagnosis mapping (can be extended)\n",
        "SYMPTOM_DIAGNOSIS_MAP = {\n",
        "    \"fever\": [\"common cold\", \"flu\", \"COVID-19\"],\n",
        "    \"cough\": [\"common cold\", \"flu\", \"COVID-19\", \"bronchitis\"],\n",
        "    \"headache\": [\"migraine\", \"tension headache\", \"flu\", \"COVID-19\"],\n",
        "    \"fatigue\": [\"common cold\", \"flu\", \"anemia\", \"COVID-19\"],\n",
        "    \"sore throat\": [\"common cold\", \"flu\", \"strep throat\"],\n",
        "    \"runny nose\": [\"common cold\", \"allergies\", \"COVID-19\"],\n",
        "    \"muscle pain\": [\"flu\", \"COVID-19\", \"fibromyalgia\"],\n",
        "    \"shortness of breath\": [\"COVID-19\", \"asthma\", \"pneumonia\"]\n",
        "}\n",
        "\n",
        "def preprocess_text(text):\n",
        "    \"\"\"Preprocess user input to extract symptoms\"\"\"\n",
        "    text = text.lower()  # Convert to lowercase\n",
        "    # Remove any special characters, keeping only words\n",
        "    text = re.sub(r'[^a-z\\s]', '', text)\n",
        "    return text\n",
        "\n",
        "def extract_symptoms(text):\n",
        "    \"\"\"Extract symptoms from the user input using symptom mapping\"\"\"\n",
        "    symptoms = []\n",
        "    text = preprocess_text(text)\n",
        "\n",
        "    for symptom in SYMPTOM_DIAGNOSIS_MAP:\n",
        "        if symptom in text:\n",
        "            symptoms.append(symptom)\n",
        "\n",
        "    return symptoms\n",
        "\n",
        "def diagnose(symptoms):\n",
        "    \"\"\"Diagnose based on symptoms\"\"\"\n",
        "    possible_diagnoses = set()\n",
        "\n",
        "    for symptom in symptoms:\n",
        "        if symptom in SYMPTOM_DIAGNOSIS_MAP:\n",
        "            possible_diagnoses.update(SYMPTOM_DIAGNOSIS_MAP[symptom])\n",
        "\n",
        "    if not possible_diagnoses:\n",
        "        return [\"No diagnosis found. Please consult a healthcare professional.\"]\n",
        "    return list(possible_diagnoses)\n",
        "\n",
        "def medical_assistant():\n",
        "    \"\"\"Main function to interact with the user\"\"\"\n",
        "    print(\"Welcome to the AI Medical Assistant!\")\n",
        "    print(\"Please describe your symptoms (separate with commas). Type 'quit' to exit.\")\n",
        "\n",
        "    while True:\n",
        "        user_input = input(\"Enter symptoms: \").strip()\n",
        "\n",
        "        if user_input.lower() == 'quit':\n",
        "            print(\"Goodbye!\")\n",
        "            break\n",
        "\n",
        "        # Extract symptoms from the input text\n",
        "        symptoms = extract_symptoms(user_input)\n",
        "\n",
        "        # Provide diagnosis suggestions based on the symptoms\n",
        "        diagnoses = diagnose(symptoms)\n",
        "\n",
        "        print(\"\\nPossible diagnoses based on your symptoms:\")\n",
        "        for diagnosis in diagnoses:\n",
        "            print(f\"- {diagnosis}\")\n",
        "\n",
        "# Run the assistant\n",
        "if __name__ == \"__main__\":\n",
        "    medical_assistant()\n"
      ],
      "metadata": {
        "colab": {
          "base_uri": "https://localhost:8080/"
        },
        "id": "LFSQuMwsgS_k",
        "outputId": "d8df9c19-48ea-4345-f5b8-d9643f5bb800"
      },
      "execution_count": null,
      "outputs": [
        {
          "output_type": "stream",
          "name": "stdout",
          "text": [
            "Welcome to the AI Medical Assistant!\n",
            "Please describe your symptoms (separate with commas). Type 'quit' to exit.\n",
            "Enter symptoms: headache\n",
            "\n",
            "Possible diagnoses based on your symptoms:\n",
            "- migraine\n",
            "- flu\n",
            "- COVID-19\n",
            "- tension headache\n",
            "Enter symptoms: fever\n",
            "\n",
            "Possible diagnoses based on your symptoms:\n",
            "- common cold\n",
            "- flu\n",
            "- COVID-19\n"
          ]
        }
      ]
    }
  ]
}