{
  "nbformat": 4,
  "nbformat_minor": 0,
  "metadata": {
    "colab": {
      "provenance": [],
      "authorship_tag": "ABX9TyOgRl0DlQ2+jIfBn97jACzo",
      "include_colab_link": true
    },
    "kernelspec": {
      "name": "python3",
      "display_name": "Python 3"
    },
    "language_info": {
      "name": "python"
    }
  },
  "cells": [
    {
      "cell_type": "markdown",
      "metadata": {
        "id": "view-in-github",
        "colab_type": "text"
      },
      "source": [
        "<a href=\"https://colab.research.google.com/github/Nandhini-s25/sdcproject/blob/main/heirachyalgo.ipynb\" target=\"_parent\"><img src=\"https://colab.research.google.com/assets/colab-badge.svg\" alt=\"Open In Colab\"/></a>"
      ]
    },
    {
      "cell_type": "code",
      "source": [
        "import numpy as np\n",
        "import matplotlib.pyplot as plt\n",
        "from scipy.cluster.hierarchy import dendrogram, linkage\n",
        "import gradio as gr\n",
        "\n",
        "# Function to perform hierarchical clustering\n",
        "def hierarchical_clustering(linkage_method, data):\n",
        "    data = np.array(data)  # Convert input data to numpy array\n",
        "\n",
        "    # Remove rows with missing or invalid values\n",
        "    data = data[~np.isnan(data).any(axis=1)]\n",
        "\n",
        "    # Ensure data has correct shape\n",
        "    if data.shape[0] < 2 or data.shape[1] != 2:\n",
        "        raise ValueError(\"Please enter at least 2 data points with exactly 2 columns.\")\n",
        "\n",
        "    # Perform hierarchical clustering\n",
        "    linked = linkage(data, method=linkage_method)\n",
        "\n",
        "    # Plot the dendrogram\n",
        "    plt.figure(figsize=(10, 7))\n",
        "    dendrogram(linked,\n",
        "               orientation='top',\n",
        "               labels=range(1, len(data) + 1),\n",
        "               distance_sort='descending',\n",
        "               show_leaf_counts=True)\n",
        "    plt.title(f'Hierarchical Clustering ({linkage_method.capitalize()} Method)')\n",
        "    plt.xlabel('Data Points')\n",
        "    plt.ylabel('Distance')\n",
        "    plt.tight_layout()\n",
        "\n",
        "    # Save the plot\n",
        "    plt.savefig('hierarchical_result.png')\n",
        "    plt.close()\n",
        "    return 'hierarchical_result.png'\n",
        "\n",
        "# Sample default data\n",
        "default_data = [\n",
        "    [1, 2],\n",
        "    [2, 3],\n",
        "    [3, 3],\n",
        "    [5, 8],\n",
        "    [6, 8],\n",
        "    [7, 9],\n",
        "]\n",
        "\n",
        "# Gradio Interface\n",
        "demo = gr.Interface(\n",
        "    fn=hierarchical_clustering,\n",
        "    inputs=[\n",
        "        gr.Dropdown(choices=['ward', 'single', 'complete', 'average'], label=\"Linkage Method\", value='ward'),\n",
        "        gr.Dataframe(headers=[\"X\", \"Y\"], value=default_data, label=\"Data Points\", row_count=6, col_count=2)\n",
        "    ],\n",
        "    outputs=gr.Image(type=\"filepath\", label=\"Dendrogram Visualization\")\n",
        ")\n",
        "\n",
        "# Launch the app\n",
        "demo.launch()\n"
      ],
      "metadata": {
        "colab": {
          "base_uri": "https://localhost:8080/",
          "height": 650
        },
        "id": "Kkq657FNeYDA",
        "outputId": "0f816d9e-c7de-4363-e360-8b921903eab8"
      },
      "execution_count": 20,
      "outputs": [
        {
          "output_type": "stream",
          "name": "stdout",
          "text": [
            "It looks like you are running Gradio on a hosted a Jupyter notebook. For the Gradio app to work, sharing must be enabled. Automatically setting `share=True` (you can turn this off by setting `share=False` in `launch()` explicitly).\n",
            "\n",
            "Colab notebook detected. To show errors in colab notebook, set debug=True in launch()\n",
            "* Running on public URL: https://46b7a5f22597cc786e.gradio.live\n",
            "\n",
            "This share link expires in 1 week. For free permanent hosting and GPU upgrades, run `gradio deploy` from the terminal in the working directory to deploy to Hugging Face Spaces (https://huggingface.co/spaces)\n"
          ]
        },
        {
          "output_type": "display_data",
          "data": {
            "text/plain": [
              "<IPython.core.display.HTML object>"
            ],
            "text/html": [
              "<div><iframe src=\"https://46b7a5f22597cc786e.gradio.live\" width=\"100%\" height=\"500\" allow=\"autoplay; camera; microphone; clipboard-read; clipboard-write;\" frameborder=\"0\" allowfullscreen></iframe></div>"
            ]
          },
          "metadata": {}
        },
        {
          "output_type": "execute_result",
          "data": {
            "text/plain": []
          },
          "metadata": {},
          "execution_count": 20
        }
      ]
    }
  ]
}