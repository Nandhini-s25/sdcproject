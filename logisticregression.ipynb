{
  "nbformat": 4,
  "nbformat_minor": 0,
  "metadata": {
    "colab": {
      "provenance": []
    },
    "kernelspec": {
      "name": "python3",
      "display_name": "Python 3"
    },
    "language_info": {
      "name": "python"
    }
  },
  "cells": [
    {
      "cell_type": "code",
      "source": [
        "import numpy as np\n",
        "import pandas as pd\n",
        "import gradio as gr\n",
        "from sklearn.model_selection import train_test_split\n",
        "from sklearn.preprocessing import StandardScaler\n",
        "from sklearn.linear_model import LogisticRegression\n",
        "\n",
        "# Step 1: Simulated Loan Dataset\n",
        "data = {\n",
        "    \"income\": [50000, 60000, 25000, 80000, 30000],\n",
        "    \"credit_score\": [700, 750, 600, 800, 550],\n",
        "    \"loan_amount\": [10000, 15000, 5000, 20000, 12000],\n",
        "    \"approved\": [1, 1, 0, 1, 0]  # 1 = Approved, 0 = Rejected\n",
        "}\n",
        "df = pd.DataFrame(data)\n",
        "\n",
        "# Step 2: Split Data into Training and Testing Sets\n",
        "X = df[[\"income\", \"credit_score\", \"loan_amount\"]]\n",
        "y = df[\"approved\"]\n",
        "\n",
        "X_train, X_test, y_train, y_test = train_test_split(X, y, test_size=0.2, random_state=42)\n",
        "\n",
        "# Step 3: Standardize the Features\n",
        "scaler = StandardScaler()\n",
        "X_train = scaler.fit_transform(X_train)\n",
        "X_test = scaler.transform(X_test)\n",
        "\n",
        "# Step 4: Train Logistic Regression Model\n",
        "model = LogisticRegression()\n",
        "model.fit(X_train, y_train)\n",
        "\n",
        "# Step 5: Define Prediction Function for Gradio UI\n",
        "def loan_approval_prediction(income, credit_score, loan_amount):\n",
        "    input_data = np.array([[income, credit_score, loan_amount]])\n",
        "    input_scaled = scaler.transform(input_data)\n",
        "    prediction = model.predict(input_scaled)[0]\n",
        "    return \"Loan Approved ✅\" if prediction == 1 else \"Loan Rejected ❌\"\n",
        "\n",
        "# Step 6: Create Gradio UI\n",
        "interface = gr.Interface(\n",
        "    fn=loan_approval_prediction,\n",
        "    inputs=[\n",
        "        gr.Number(label=\"Annual Income\"),\n",
        "        gr.Number(label=\"Credit Score\"),\n",
        "        gr.Number(label=\"Loan Amount Requested\"),\n",
        "    ],\n",
        "    outputs=gr.Label(),\n",
        "    title=\"Loan Approval Prediction (Logistic Regression)\",\n",
        "    description=\"Enter applicant details to predict loan approval.\"\n",
        ")\n",
        "\n",
        "# Step 7: Launch the Web App\n",
        "interface.launch()"
      ],
      "metadata": {
        "colab": {
          "base_uri": "https://localhost:8080/",
          "height": 650
        },
        "id": "zsN5juhl5isL",
        "outputId": "02db02ef-b906-412f-da25-fa69efcbb9ab"
      },
      "execution_count": 7,
      "outputs": [
        {
          "output_type": "stream",
          "name": "stdout",
          "text": [
            "It looks like you are running Gradio on a hosted a Jupyter notebook. For the Gradio app to work, sharing must be enabled. Automatically setting `share=True` (you can turn this off by setting `share=False` in `launch()` explicitly).\n",
            "\n",
            "Colab notebook detected. To show errors in colab notebook, set debug=True in launch()\n",
            "* Running on public URL: https://eacc783aca4958a67a.gradio.live\n",
            "\n",
            "This share link expires in 1 week. For free permanent hosting and GPU upgrades, run `gradio deploy` from the terminal in the working directory to deploy to Hugging Face Spaces (https://huggingface.co/spaces)\n"
          ]
        },
        {
          "output_type": "display_data",
          "data": {
            "text/plain": [
              "<IPython.core.display.HTML object>"
            ],
            "text/html": [
              "<div><iframe src=\"https://eacc783aca4958a67a.gradio.live\" width=\"100%\" height=\"500\" allow=\"autoplay; camera; microphone; clipboard-read; clipboard-write;\" frameborder=\"0\" allowfullscreen></iframe></div>"
            ]
          },
          "metadata": {}
        },
        {
          "output_type": "execute_result",
          "data": {
            "text/plain": []
          },
          "metadata": {},
          "execution_count": 7
        }
      ]
    },
    {
      "cell_type": "code",
      "source": [
        "import pandas as pd\n",
        "import numpy as np\n",
        "import gradio as gr\n",
        "from sklearn.model_selection import train_test_split\n",
        "from sklearn.preprocessing import StandardScaler\n",
        "from sklearn.linear_model import LogisticRegression\n",
        "\n",
        "# Step 1: Load dataset from Kaggle (provide link)\n",
        "dataset_link = \"https://www.kaggle.com/datasets/architsharma01/loan-approval-prediction-dataset\"\n",
        "print(f\"Download dataset manually from: {dataset_link}\")\n",
        "\n",
        "# Step 2: Assume data is already downloaded and load it into pandas\n",
        "# df = pd.read_csv(\"loan_approval_data.csv\") # Uncomment after downloading\n",
        "\n",
        "# Step 3: Process Data (Modify according to actual dataset format)\n",
        "# Selecting relevant features\n",
        "# X = df[[\"ApplicantIncome\", \"CreditScore\", \"LoanAmount\"]] # Adjust column names\n",
        "# y = df[\"Loan_Status\"].map({\"Approved\": 1, \"Rejected\": 0}) # Convert labels to binary\n",
        "\n",
        "# Step 4: Split Data\n",
        "# X_train, X_test, y_train, y_test = train_test_split(X, y, test_size=0.2, random_state=42)\n",
        "\n",
        "# Step 5: Standardize Features\n",
        "# scaler = StandardScaler()\n",
        "# X_train = scaler.fit_transform(X_train)\n",
        "# X_test = scaler.transform(X_test)\n",
        "\n",
        "# Step 6: Train Logistic Regression Model\n",
        "# model = LogisticRegression()\n",
        "# model.fit(X_train, y_train)\n",
        "\n",
        "# Step 7: Define Prediction Function for Gradio UI\n",
        "def loan_approval_prediction(income, credit_score, loan_amount):\n",
        "    # input_data = np.array([[income, credit_score, loan_amount]])\n",
        "    # input_scaled = scaler.transform(input_data)\n",
        "    # prediction = model.predict(input_scaled)[0]\n",
        "    prediction = \"Loan Approved ✅\" if income >= 50000 and credit_score >= 650 else \"Loan Rejected ❌\"\n",
        "    return prediction\n",
        "\n",
        "# Step 8: Create Gradio UI\n",
        "interface = gr.Interface(\n",
        "    fn=loan_approval_prediction,\n",
        "    inputs=[\n",
        "        gr.Number(label=\"Annual Income\"),\n",
        "        gr.Number(label=\"Credit Score\"),\n",
        "        gr.Number(label=\"Loan Amount Requested\"),\n",
        "    ],\n",
        "    outputs=gr.Label(),\n",
        "    title=\"Loan Approval Prediction (Logistic Regression)\",\n",
        "    description=\"Enter applicant details to predict loan approval.\"\n",
        ")\n",
        "\n",
        "# Step 9: Launch the Web App\n",
        "interface.launch()\n"
      ],
      "metadata": {
        "colab": {
          "base_uri": "https://localhost:8080/",
          "height": 668
        },
        "id": "Drv6SFtm6KSW",
        "outputId": "0ed560c5-53da-46e0-9d0d-322341368a6e"
      },
      "execution_count": 8,
      "outputs": [
        {
          "output_type": "stream",
          "name": "stdout",
          "text": [
            "Download dataset manually from: https://www.kaggle.com/datasets/architsharma01/loan-approval-prediction-dataset\n",
            "It looks like you are running Gradio on a hosted a Jupyter notebook. For the Gradio app to work, sharing must be enabled. Automatically setting `share=True` (you can turn this off by setting `share=False` in `launch()` explicitly).\n",
            "\n",
            "Colab notebook detected. To show errors in colab notebook, set debug=True in launch()\n",
            "* Running on public URL: https://4414c42d6b374b03fa.gradio.live\n",
            "\n",
            "This share link expires in 1 week. For free permanent hosting and GPU upgrades, run `gradio deploy` from the terminal in the working directory to deploy to Hugging Face Spaces (https://huggingface.co/spaces)\n"
          ]
        },
        {
          "output_type": "display_data",
          "data": {
            "text/plain": [
              "<IPython.core.display.HTML object>"
            ],
            "text/html": [
              "<div><iframe src=\"https://4414c42d6b374b03fa.gradio.live\" width=\"100%\" height=\"500\" allow=\"autoplay; camera; microphone; clipboard-read; clipboard-write;\" frameborder=\"0\" allowfullscreen></iframe></div>"
            ]
          },
          "metadata": {}
        },
        {
          "output_type": "execute_result",
          "data": {
            "text/plain": []
          },
          "metadata": {},
          "execution_count": 8
        }
      ]
    }
  ]
}